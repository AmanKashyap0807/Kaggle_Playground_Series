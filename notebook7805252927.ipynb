{
 "cells": [
  {
   "cell_type": "code",
   "execution_count": 1,
   "id": "56cd7154",
   "metadata": {
    "execution": {
     "iopub.execute_input": "2025-01-11T11:03:34.784928Z",
     "iopub.status.busy": "2025-01-11T11:03:34.784534Z",
     "iopub.status.idle": "2025-01-11T11:03:36.860054Z",
     "shell.execute_reply": "2025-01-11T11:03:36.858915Z"
    },
    "papermill": {
     "duration": 2.080713,
     "end_time": "2025-01-11T11:03:36.862070",
     "exception": false,
     "start_time": "2025-01-11T11:03:34.781357",
     "status": "completed"
    },
    "tags": []
   },
   "outputs": [],
   "source": [
    "import pandas as pd\n",
    "import numpy as np\n",
    "import matplotlib.pyplot as plt\n",
    "import seaborn as sns"
   ]
  },
  {
   "cell_type": "code",
   "execution_count": null,
   "id": "c63a6964",
   "metadata": {
    "papermill": {
     "duration": 0.00113,
     "end_time": "2025-01-11T11:03:36.865373",
     "exception": false,
     "start_time": "2025-01-11T11:03:36.864243",
     "status": "completed"
    },
    "tags": []
   },
   "outputs": [],
   "source": []
  }
 ],
 "metadata": {
  "kaggle": {
   "accelerator": "none",
   "dataSources": [
    {
     "databundleVersionId": 10652996,
     "sourceId": 85723,
     "sourceType": "competition"
    }
   ],
   "dockerImageVersionId": 30822,
   "isGpuEnabled": false,
   "isInternetEnabled": true,
   "language": "python",
   "sourceType": "notebook"
  },
  "kernelspec": {
   "display_name": "Python 3",
   "language": "python",
   "name": "python3"
  },
  "language_info": {
   "codemirror_mode": {
    "name": "ipython",
    "version": 3
   },
   "file_extension": ".py",
   "mimetype": "text/x-python",
   "name": "python",
   "nbconvert_exporter": "python",
   "pygments_lexer": "ipython3",
   "version": "3.10.12"
  },
  "papermill": {
   "default_parameters": {},
   "duration": 5.190033,
   "end_time": "2025-01-11T11:03:37.586919",
   "environment_variables": {},
   "exception": null,
   "input_path": "__notebook__.ipynb",
   "output_path": "__notebook__.ipynb",
   "parameters": {},
   "start_time": "2025-01-11T11:03:32.396886",
   "version": "2.6.0"
  }
 },
 "nbformat": 4,
 "nbformat_minor": 5
}
